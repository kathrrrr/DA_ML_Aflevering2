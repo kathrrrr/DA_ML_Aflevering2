{
 "cells": [
  {
   "cell_type": "markdown",
   "id": "23d349bd",
   "metadata": {},
   "source": [
    "**Dataanalyse og Machine Learning (F24.520214U002.A)  \n",
    "Gruppe 1:  \n",
    "Hans Christian Hulvej - AU19930532  \n",
    "Kathrine Bohus Madsen - AU202301227  \n",
    "Tor Kolding - AU20000148  \n",
    "Torben Holst Rendboe – AU20064217**\n",
    "---------------------------------------------------"
   ]
  },
  {
   "cell_type": "markdown",
   "id": "76d224c3",
   "metadata": {},
   "source": [
    "## DAoML 2024 Gruppe1 Opgave2 Supervised ML - WineQuality"
   ]
  },
  {
   "cell_type": "markdown",
   "id": "22844150",
   "metadata": {},
   "source": [
    "Vi har valgt at arbejde med datasettet \"Wine Quality dataset\" fra Kaggle.\n",
    "Datasettet indeholder mange objektive \"features\" som sukkerindhold, syre, alkoholprocent og PH-værdi, mens den sidste feature/attribut er det mere subjektive \"quality\".  \n",
    "\n",
    "Vi vil gerne skabe en supervised machine-learning model, der kan forudsige en vins kvalitetsbedømmelse ud fra de objektive kriterier, og dermed nærme os et svar på, hvilke objektive egenskaber, der gør vin attraktivt."
   ]
  },
  {
   "cell_type": "markdown",
   "id": "a2c34fc2",
   "metadata": {},
   "source": [
    "## Hent data og analyser den"
   ]
  },
  {
   "cell_type": "markdown",
   "id": "a927f72f",
   "metadata": {},
   "source": [
    "Første step, er at importere de relevante biblioteker til databehandling og visualise"
   ]
  },
  {
   "cell_type": "code",
   "execution_count": 1,
   "id": "e3fd2571",
   "metadata": {},
   "outputs": [],
   "source": [
    "import sklearn\n",
    "import pandas as pd\n",
    "import seaborn as sns\n",
    "\n",
    "import matplotlib.pyplot as plt\n",
    "%matplotlib inline\n",
    "\n",
    "import scikitplot as skplt\n",
    "\n",
    "import numpy as np\n",
    "\n",
    "from sklearn.model_selection import train_test_split\n",
    "from sklearn.linear_model import LogisticRegression\n",
    "from sklearn.neighbors import KNeighborsClassifier\n",
    "from sklearn.metrics import accuracy_score, confusion_matrix, classification_report, ConfusionMatrixDisplay"
   ]
  },
  {
   "cell_type": "markdown",
   "id": "cd51e901",
   "metadata": {},
   "source": [
    "Nu henter vi vores csv fil ind i en dataFrame  \n",
    "I dette tilfælde er det fra Kaggle og omhandler vin kvalitet  \n",
    "https://www.kaggle.com/datasets/yasserh/wine-quality-dataset  \n",
    "  \n",
    "PS. det leveres i en zip fil, som skal pakkes ud og placeres i samme folder som koden."
   ]
  },
  {
   "cell_type": "code",
   "execution_count": 2,
   "id": "2c9bc80a",
   "metadata": {},
   "outputs": [],
   "source": [
    "dataFrame = pd.read_csv(\"WineQT.csv\")"
   ]
  },
  {
   "cell_type": "markdown",
   "id": "bdc28f2c",
   "metadata": {},
   "source": [
    "Lad os nu se på dataFramen... vi nøjes med de første 5 rækker i starten.  \n",
    "Grunden til at vi visualiserer data, er for at få overblik over *struktur*, *features* og *target*"
   ]
  },
  {
   "cell_type": "code",
   "execution_count": 3,
   "id": "3b84155b",
   "metadata": {},
   "outputs": [
    {
     "data": {
      "text/html": [
       "<div>\n",
       "<style scoped>\n",
       "    .dataframe tbody tr th:only-of-type {\n",
       "        vertical-align: middle;\n",
       "    }\n",
       "\n",
       "    .dataframe tbody tr th {\n",
       "        vertical-align: top;\n",
       "    }\n",
       "\n",
       "    .dataframe thead th {\n",
       "        text-align: right;\n",
       "    }\n",
       "</style>\n",
       "<table border=\"1\" class=\"dataframe\">\n",
       "  <thead>\n",
       "    <tr style=\"text-align: right;\">\n",
       "      <th></th>\n",
       "      <th>fixed acidity</th>\n",
       "      <th>volatile acidity</th>\n",
       "      <th>citric acid</th>\n",
       "      <th>residual sugar</th>\n",
       "      <th>chlorides</th>\n",
       "      <th>free sulfur dioxide</th>\n",
       "      <th>total sulfur dioxide</th>\n",
       "      <th>density</th>\n",
       "      <th>pH</th>\n",
       "      <th>sulphates</th>\n",
       "      <th>alcohol</th>\n",
       "      <th>quality</th>\n",
       "      <th>Id</th>\n",
       "    </tr>\n",
       "  </thead>\n",
       "  <tbody>\n",
       "    <tr>\n",
       "      <th>0</th>\n",
       "      <td>7.4</td>\n",
       "      <td>0.70</td>\n",
       "      <td>0.00</td>\n",
       "      <td>1.9</td>\n",
       "      <td>0.076</td>\n",
       "      <td>11.0</td>\n",
       "      <td>34.0</td>\n",
       "      <td>0.9978</td>\n",
       "      <td>3.51</td>\n",
       "      <td>0.56</td>\n",
       "      <td>9.4</td>\n",
       "      <td>5</td>\n",
       "      <td>0</td>\n",
       "    </tr>\n",
       "    <tr>\n",
       "      <th>1</th>\n",
       "      <td>7.8</td>\n",
       "      <td>0.88</td>\n",
       "      <td>0.00</td>\n",
       "      <td>2.6</td>\n",
       "      <td>0.098</td>\n",
       "      <td>25.0</td>\n",
       "      <td>67.0</td>\n",
       "      <td>0.9968</td>\n",
       "      <td>3.20</td>\n",
       "      <td>0.68</td>\n",
       "      <td>9.8</td>\n",
       "      <td>5</td>\n",
       "      <td>1</td>\n",
       "    </tr>\n",
       "    <tr>\n",
       "      <th>2</th>\n",
       "      <td>7.8</td>\n",
       "      <td>0.76</td>\n",
       "      <td>0.04</td>\n",
       "      <td>2.3</td>\n",
       "      <td>0.092</td>\n",
       "      <td>15.0</td>\n",
       "      <td>54.0</td>\n",
       "      <td>0.9970</td>\n",
       "      <td>3.26</td>\n",
       "      <td>0.65</td>\n",
       "      <td>9.8</td>\n",
       "      <td>5</td>\n",
       "      <td>2</td>\n",
       "    </tr>\n",
       "    <tr>\n",
       "      <th>3</th>\n",
       "      <td>11.2</td>\n",
       "      <td>0.28</td>\n",
       "      <td>0.56</td>\n",
       "      <td>1.9</td>\n",
       "      <td>0.075</td>\n",
       "      <td>17.0</td>\n",
       "      <td>60.0</td>\n",
       "      <td>0.9980</td>\n",
       "      <td>3.16</td>\n",
       "      <td>0.58</td>\n",
       "      <td>9.8</td>\n",
       "      <td>6</td>\n",
       "      <td>3</td>\n",
       "    </tr>\n",
       "    <tr>\n",
       "      <th>4</th>\n",
       "      <td>7.4</td>\n",
       "      <td>0.70</td>\n",
       "      <td>0.00</td>\n",
       "      <td>1.9</td>\n",
       "      <td>0.076</td>\n",
       "      <td>11.0</td>\n",
       "      <td>34.0</td>\n",
       "      <td>0.9978</td>\n",
       "      <td>3.51</td>\n",
       "      <td>0.56</td>\n",
       "      <td>9.4</td>\n",
       "      <td>5</td>\n",
       "      <td>4</td>\n",
       "    </tr>\n",
       "  </tbody>\n",
       "</table>\n",
       "</div>"
      ],
      "text/plain": [
       "   fixed acidity  volatile acidity  citric acid  residual sugar  chlorides  \\\n",
       "0            7.4              0.70         0.00             1.9      0.076   \n",
       "1            7.8              0.88         0.00             2.6      0.098   \n",
       "2            7.8              0.76         0.04             2.3      0.092   \n",
       "3           11.2              0.28         0.56             1.9      0.075   \n",
       "4            7.4              0.70         0.00             1.9      0.076   \n",
       "\n",
       "   free sulfur dioxide  total sulfur dioxide  density    pH  sulphates  \\\n",
       "0                 11.0                  34.0   0.9978  3.51       0.56   \n",
       "1                 25.0                  67.0   0.9968  3.20       0.68   \n",
       "2                 15.0                  54.0   0.9970  3.26       0.65   \n",
       "3                 17.0                  60.0   0.9980  3.16       0.58   \n",
       "4                 11.0                  34.0   0.9978  3.51       0.56   \n",
       "\n",
       "   alcohol  quality  Id  \n",
       "0      9.4        5   0  \n",
       "1      9.8        5   1  \n",
       "2      9.8        5   2  \n",
       "3      9.8        6   3  \n",
       "4      9.4        5   4  "
      ]
     },
     "execution_count": 3,
     "metadata": {},
     "output_type": "execute_result"
    }
   ],
   "source": [
    "dataFrame.head()"
   ]
  },
  {
   "cell_type": "markdown",
   "id": "16d4dd1b",
   "metadata": {},
   "source": [
    "En anden måde at få overblik på er ved at vise data."
   ]
  },
  {
   "cell_type": "code",
   "execution_count": 4,
   "id": "157d845a",
   "metadata": {},
   "outputs": [
    {
     "name": "stdout",
     "output_type": "stream",
     "text": [
      "<class 'pandas.core.frame.DataFrame'>\n",
      "RangeIndex: 1143 entries, 0 to 1142\n",
      "Data columns (total 13 columns):\n",
      " #   Column                Non-Null Count  Dtype  \n",
      "---  ------                --------------  -----  \n",
      " 0   fixed acidity         1143 non-null   float64\n",
      " 1   volatile acidity      1143 non-null   float64\n",
      " 2   citric acid           1143 non-null   float64\n",
      " 3   residual sugar        1143 non-null   float64\n",
      " 4   chlorides             1143 non-null   float64\n",
      " 5   free sulfur dioxide   1143 non-null   float64\n",
      " 6   total sulfur dioxide  1143 non-null   float64\n",
      " 7   density               1143 non-null   float64\n",
      " 8   pH                    1143 non-null   float64\n",
      " 9   sulphates             1143 non-null   float64\n",
      " 10  alcohol               1143 non-null   float64\n",
      " 11  quality               1143 non-null   int64  \n",
      " 12  Id                    1143 non-null   int64  \n",
      "dtypes: float64(11), int64(2)\n",
      "memory usage: 116.2 KB\n"
     ]
    }
   ],
   "source": [
    "dataFrame.info()"
   ]
  },
  {
   "cell_type": "markdown",
   "id": "3eeb8066",
   "metadata": {},
   "source": [
    "Vi kan se at vi har 11 kolonner med *features* og *target* i kolonne 12"
   ]
  },
  {
   "cell_type": "markdown",
   "id": "e8630bd2",
   "metadata": {},
   "source": [
    "Og så lige en tredie måde, hvor vi ser de første 5 rækker og de sidste 5 rækker."
   ]
  },
  {
   "cell_type": "code",
   "execution_count": 5,
   "id": "b2fd79dc",
   "metadata": {},
   "outputs": [
    {
     "name": "stdout",
     "output_type": "stream",
     "text": [
      "data i Wine Quality....\n",
      "\n",
      "       fixed acidity  volatile acidity  citric acid  residual sugar  chlorides  \\\n",
      "0               7.4             0.700         0.00             1.9      0.076   \n",
      "1               7.8             0.880         0.00             2.6      0.098   \n",
      "2               7.8             0.760         0.04             2.3      0.092   \n",
      "3              11.2             0.280         0.56             1.9      0.075   \n",
      "4               7.4             0.700         0.00             1.9      0.076   \n",
      "...             ...               ...          ...             ...        ...   \n",
      "1138            6.3             0.510         0.13             2.3      0.076   \n",
      "1139            6.8             0.620         0.08             1.9      0.068   \n",
      "1140            6.2             0.600         0.08             2.0      0.090   \n",
      "1141            5.9             0.550         0.10             2.2      0.062   \n",
      "1142            5.9             0.645         0.12             2.0      0.075   \n",
      "\n",
      "      free sulfur dioxide  total sulfur dioxide  density    pH  sulphates  \\\n",
      "0                    11.0                  34.0  0.99780  3.51       0.56   \n",
      "1                    25.0                  67.0  0.99680  3.20       0.68   \n",
      "2                    15.0                  54.0  0.99700  3.26       0.65   \n",
      "3                    17.0                  60.0  0.99800  3.16       0.58   \n",
      "4                    11.0                  34.0  0.99780  3.51       0.56   \n",
      "...                   ...                   ...      ...   ...        ...   \n",
      "1138                 29.0                  40.0  0.99574  3.42       0.75   \n",
      "1139                 28.0                  38.0  0.99651  3.42       0.82   \n",
      "1140                 32.0                  44.0  0.99490  3.45       0.58   \n",
      "1141                 39.0                  51.0  0.99512  3.52       0.76   \n",
      "1142                 32.0                  44.0  0.99547  3.57       0.71   \n",
      "\n",
      "      alcohol  quality    Id  \n",
      "0         9.4        5     0  \n",
      "1         9.8        5     1  \n",
      "2         9.8        5     2  \n",
      "3         9.8        6     3  \n",
      "4         9.4        5     4  \n",
      "...       ...      ...   ...  \n",
      "1138     11.0        6  1592  \n",
      "1139      9.5        6  1593  \n",
      "1140     10.5        5  1594  \n",
      "1141     11.2        6  1595  \n",
      "1142     10.2        5  1597  \n",
      "\n",
      "[1143 rows x 13 columns]\n"
     ]
    }
   ],
   "source": [
    "print(\"data i Wine Quality....\\n\\n\",dataFrame)"
   ]
  },
  {
   "cell_type": "markdown",
   "id": "3cd5afe5",
   "metadata": {},
   "source": [
    "Vi kan også lave en statistisk beskrivelse af datasettet ved at bruge describe metoden"
   ]
  },
  {
   "cell_type": "code",
   "execution_count": 6,
   "id": "5510814d",
   "metadata": {},
   "outputs": [
    {
     "data": {
      "text/html": [
       "<div>\n",
       "<style scoped>\n",
       "    .dataframe tbody tr th:only-of-type {\n",
       "        vertical-align: middle;\n",
       "    }\n",
       "\n",
       "    .dataframe tbody tr th {\n",
       "        vertical-align: top;\n",
       "    }\n",
       "\n",
       "    .dataframe thead th {\n",
       "        text-align: right;\n",
       "    }\n",
       "</style>\n",
       "<table border=\"1\" class=\"dataframe\">\n",
       "  <thead>\n",
       "    <tr style=\"text-align: right;\">\n",
       "      <th></th>\n",
       "      <th>fixed acidity</th>\n",
       "      <th>volatile acidity</th>\n",
       "      <th>citric acid</th>\n",
       "      <th>residual sugar</th>\n",
       "      <th>chlorides</th>\n",
       "      <th>free sulfur dioxide</th>\n",
       "      <th>total sulfur dioxide</th>\n",
       "      <th>density</th>\n",
       "      <th>pH</th>\n",
       "      <th>sulphates</th>\n",
       "      <th>alcohol</th>\n",
       "      <th>quality</th>\n",
       "      <th>Id</th>\n",
       "    </tr>\n",
       "  </thead>\n",
       "  <tbody>\n",
       "    <tr>\n",
       "      <th>count</th>\n",
       "      <td>1143.000000</td>\n",
       "      <td>1143.000000</td>\n",
       "      <td>1143.000000</td>\n",
       "      <td>1143.000000</td>\n",
       "      <td>1143.000000</td>\n",
       "      <td>1143.000000</td>\n",
       "      <td>1143.000000</td>\n",
       "      <td>1143.000000</td>\n",
       "      <td>1143.000000</td>\n",
       "      <td>1143.000000</td>\n",
       "      <td>1143.000000</td>\n",
       "      <td>1143.000000</td>\n",
       "      <td>1143.000000</td>\n",
       "    </tr>\n",
       "    <tr>\n",
       "      <th>mean</th>\n",
       "      <td>8.311111</td>\n",
       "      <td>0.531339</td>\n",
       "      <td>0.268364</td>\n",
       "      <td>2.532152</td>\n",
       "      <td>0.086933</td>\n",
       "      <td>15.615486</td>\n",
       "      <td>45.914698</td>\n",
       "      <td>0.996730</td>\n",
       "      <td>3.311015</td>\n",
       "      <td>0.657708</td>\n",
       "      <td>10.442111</td>\n",
       "      <td>5.657043</td>\n",
       "      <td>804.969379</td>\n",
       "    </tr>\n",
       "    <tr>\n",
       "      <th>std</th>\n",
       "      <td>1.747595</td>\n",
       "      <td>0.179633</td>\n",
       "      <td>0.196686</td>\n",
       "      <td>1.355917</td>\n",
       "      <td>0.047267</td>\n",
       "      <td>10.250486</td>\n",
       "      <td>32.782130</td>\n",
       "      <td>0.001925</td>\n",
       "      <td>0.156664</td>\n",
       "      <td>0.170399</td>\n",
       "      <td>1.082196</td>\n",
       "      <td>0.805824</td>\n",
       "      <td>463.997116</td>\n",
       "    </tr>\n",
       "    <tr>\n",
       "      <th>min</th>\n",
       "      <td>4.600000</td>\n",
       "      <td>0.120000</td>\n",
       "      <td>0.000000</td>\n",
       "      <td>0.900000</td>\n",
       "      <td>0.012000</td>\n",
       "      <td>1.000000</td>\n",
       "      <td>6.000000</td>\n",
       "      <td>0.990070</td>\n",
       "      <td>2.740000</td>\n",
       "      <td>0.330000</td>\n",
       "      <td>8.400000</td>\n",
       "      <td>3.000000</td>\n",
       "      <td>0.000000</td>\n",
       "    </tr>\n",
       "    <tr>\n",
       "      <th>25%</th>\n",
       "      <td>7.100000</td>\n",
       "      <td>0.392500</td>\n",
       "      <td>0.090000</td>\n",
       "      <td>1.900000</td>\n",
       "      <td>0.070000</td>\n",
       "      <td>7.000000</td>\n",
       "      <td>21.000000</td>\n",
       "      <td>0.995570</td>\n",
       "      <td>3.205000</td>\n",
       "      <td>0.550000</td>\n",
       "      <td>9.500000</td>\n",
       "      <td>5.000000</td>\n",
       "      <td>411.000000</td>\n",
       "    </tr>\n",
       "    <tr>\n",
       "      <th>50%</th>\n",
       "      <td>7.900000</td>\n",
       "      <td>0.520000</td>\n",
       "      <td>0.250000</td>\n",
       "      <td>2.200000</td>\n",
       "      <td>0.079000</td>\n",
       "      <td>13.000000</td>\n",
       "      <td>37.000000</td>\n",
       "      <td>0.996680</td>\n",
       "      <td>3.310000</td>\n",
       "      <td>0.620000</td>\n",
       "      <td>10.200000</td>\n",
       "      <td>6.000000</td>\n",
       "      <td>794.000000</td>\n",
       "    </tr>\n",
       "    <tr>\n",
       "      <th>75%</th>\n",
       "      <td>9.100000</td>\n",
       "      <td>0.640000</td>\n",
       "      <td>0.420000</td>\n",
       "      <td>2.600000</td>\n",
       "      <td>0.090000</td>\n",
       "      <td>21.000000</td>\n",
       "      <td>61.000000</td>\n",
       "      <td>0.997845</td>\n",
       "      <td>3.400000</td>\n",
       "      <td>0.730000</td>\n",
       "      <td>11.100000</td>\n",
       "      <td>6.000000</td>\n",
       "      <td>1209.500000</td>\n",
       "    </tr>\n",
       "    <tr>\n",
       "      <th>max</th>\n",
       "      <td>15.900000</td>\n",
       "      <td>1.580000</td>\n",
       "      <td>1.000000</td>\n",
       "      <td>15.500000</td>\n",
       "      <td>0.611000</td>\n",
       "      <td>68.000000</td>\n",
       "      <td>289.000000</td>\n",
       "      <td>1.003690</td>\n",
       "      <td>4.010000</td>\n",
       "      <td>2.000000</td>\n",
       "      <td>14.900000</td>\n",
       "      <td>8.000000</td>\n",
       "      <td>1597.000000</td>\n",
       "    </tr>\n",
       "  </tbody>\n",
       "</table>\n",
       "</div>"
      ],
      "text/plain": [
       "       fixed acidity  volatile acidity  citric acid  residual sugar  \\\n",
       "count    1143.000000       1143.000000  1143.000000     1143.000000   \n",
       "mean        8.311111          0.531339     0.268364        2.532152   \n",
       "std         1.747595          0.179633     0.196686        1.355917   \n",
       "min         4.600000          0.120000     0.000000        0.900000   \n",
       "25%         7.100000          0.392500     0.090000        1.900000   \n",
       "50%         7.900000          0.520000     0.250000        2.200000   \n",
       "75%         9.100000          0.640000     0.420000        2.600000   \n",
       "max        15.900000          1.580000     1.000000       15.500000   \n",
       "\n",
       "         chlorides  free sulfur dioxide  total sulfur dioxide      density  \\\n",
       "count  1143.000000          1143.000000           1143.000000  1143.000000   \n",
       "mean      0.086933            15.615486             45.914698     0.996730   \n",
       "std       0.047267            10.250486             32.782130     0.001925   \n",
       "min       0.012000             1.000000              6.000000     0.990070   \n",
       "25%       0.070000             7.000000             21.000000     0.995570   \n",
       "50%       0.079000            13.000000             37.000000     0.996680   \n",
       "75%       0.090000            21.000000             61.000000     0.997845   \n",
       "max       0.611000            68.000000            289.000000     1.003690   \n",
       "\n",
       "                pH    sulphates      alcohol      quality           Id  \n",
       "count  1143.000000  1143.000000  1143.000000  1143.000000  1143.000000  \n",
       "mean      3.311015     0.657708    10.442111     5.657043   804.969379  \n",
       "std       0.156664     0.170399     1.082196     0.805824   463.997116  \n",
       "min       2.740000     0.330000     8.400000     3.000000     0.000000  \n",
       "25%       3.205000     0.550000     9.500000     5.000000   411.000000  \n",
       "50%       3.310000     0.620000    10.200000     6.000000   794.000000  \n",
       "75%       3.400000     0.730000    11.100000     6.000000  1209.500000  \n",
       "max       4.010000     2.000000    14.900000     8.000000  1597.000000  "
      ]
     },
     "execution_count": 6,
     "metadata": {},
     "output_type": "execute_result"
    }
   ],
   "source": [
    "dataFrame.describe()"
   ]
  },
  {
   "cell_type": "markdown",
   "id": "a285d51e",
   "metadata": {},
   "source": [
    "### Så skal data renses. "
   ]
  },
  {
   "cell_type": "code",
   "execution_count": 7,
   "id": "24133798",
   "metadata": {},
   "outputs": [
    {
     "data": {
      "text/plain": [
       "fixed acidity           0\n",
       "volatile acidity        0\n",
       "citric acid             0\n",
       "residual sugar          0\n",
       "chlorides               0\n",
       "free sulfur dioxide     0\n",
       "total sulfur dioxide    0\n",
       "density                 0\n",
       "pH                      0\n",
       "sulphates               0\n",
       "alcohol                 0\n",
       "quality                 0\n",
       "Id                      0\n",
       "dtype: int64"
      ]
     },
     "execution_count": 7,
     "metadata": {},
     "output_type": "execute_result"
    }
   ],
   "source": [
    "dataFrame.isna().sum()"
   ]
  },
  {
   "cell_type": "markdown",
   "id": "40b92f90",
   "metadata": {},
   "source": [
    "og tjekkes igen"
   ]
  },
  {
   "cell_type": "code",
   "execution_count": 8,
   "id": "9fb6fc59",
   "metadata": {},
   "outputs": [
    {
     "name": "stdout",
     "output_type": "stream",
     "text": [
      "<class 'pandas.core.frame.DataFrame'>\n",
      "RangeIndex: 1143 entries, 0 to 1142\n",
      "Data columns (total 13 columns):\n",
      " #   Column                Non-Null Count  Dtype  \n",
      "---  ------                --------------  -----  \n",
      " 0   fixed acidity         1143 non-null   float64\n",
      " 1   volatile acidity      1143 non-null   float64\n",
      " 2   citric acid           1143 non-null   float64\n",
      " 3   residual sugar        1143 non-null   float64\n",
      " 4   chlorides             1143 non-null   float64\n",
      " 5   free sulfur dioxide   1143 non-null   float64\n",
      " 6   total sulfur dioxide  1143 non-null   float64\n",
      " 7   density               1143 non-null   float64\n",
      " 8   pH                    1143 non-null   float64\n",
      " 9   sulphates             1143 non-null   float64\n",
      " 10  alcohol               1143 non-null   float64\n",
      " 11  quality               1143 non-null   int64  \n",
      " 12  Id                    1143 non-null   int64  \n",
      "dtypes: float64(11), int64(2)\n",
      "memory usage: 116.2 KB\n"
     ]
    }
   ],
   "source": [
    "dataFrame.info()"
   ]
  },
  {
   "cell_type": "markdown",
   "id": "48005bcb",
   "metadata": {},
   "source": [
    "## Opdel data i feature og target data"
   ]
  },
  {
   "cell_type": "markdown",
   "id": "75ca3757",
   "metadata": {},
   "source": [
    "Så skal vi til at definerer features(x) og target(y)  \n",
    "y = w1x1 + w2x2 + ........ +wnxn"
   ]
  },
  {
   "cell_type": "markdown",
   "id": "3a9042dc",
   "metadata": {},
   "source": [
    "Lad os nu få se på kolonnerne alene, ved at bruge variabelkaldet columns, får vi en liste over kolonne navnene."
   ]
  },
  {
   "cell_type": "code",
   "execution_count": 9,
   "id": "07ea3680",
   "metadata": {},
   "outputs": [
    {
     "data": {
      "text/plain": [
       "Index(['fixed acidity', 'volatile acidity', 'citric acid', 'residual sugar',\n",
       "       'chlorides', 'free sulfur dioxide', 'total sulfur dioxide', 'density',\n",
       "       'pH', 'sulphates', 'alcohol', 'quality', 'Id'],\n",
       "      dtype='object')"
      ]
     },
     "execution_count": 9,
     "metadata": {},
     "output_type": "execute_result"
    }
   ],
   "source": [
    "dataFrame.columns"
   ]
  },
  {
   "cell_type": "markdown",
   "id": "006d6a3c",
   "metadata": {},
   "source": [
    "og lad os oversætte kolonne navnene med metode rename()"
   ]
  },
  {
   "cell_type": "code",
   "execution_count": 10,
   "id": "2ea23292",
   "metadata": {},
   "outputs": [],
   "source": [
    "dataFrame.rename(columns={'fixed acidity':'fast surhedsgrad', 'volatile acidity':'flygtig surhed', 'citric acid':'citronsyre', 'residual sugar':'restsukker',\n",
    "       'chlorides':'chlorider', 'free sulfur dioxide':'fri svovldioxid', 'total sulfur dioxide':'total svovldioxid', 'density':'massefylde',\n",
    "       'pH':'pH', 'sulphates':'sulfater', 'alcohol':'alkohol', 'quality':'kvalitet', 'Id':'Id'}, inplace=True)"
   ]
  },
  {
   "cell_type": "markdown",
   "id": "83b4a331",
   "metadata": {},
   "source": [
    "Nu definerer vi y, som tages ud fra listen over kolonner, og da y kun har en target, skal vi blot bruge quality.  \n",
    "PS. det er altid en god ide at copy paste fra kolonne oversigten, så vi undgår slå fejl.  \n",
    "PPS. og vi bruger notationerne y_target og x_feature i stedet for y og x"
   ]
  },
  {
   "cell_type": "code",
   "execution_count": 11,
   "id": "860f7084",
   "metadata": {},
   "outputs": [
    {
     "data": {
      "text/plain": [
       "Index(['fast surhedsgrad', 'flygtig surhed', 'citronsyre', 'restsukker',\n",
       "       'chlorider', 'fri svovldioxid', 'total svovldioxid', 'massefylde', 'pH',\n",
       "       'sulfater', 'alkohol', 'kvalitet', 'Id'],\n",
       "      dtype='object')"
      ]
     },
     "execution_count": 11,
     "metadata": {},
     "output_type": "execute_result"
    }
   ],
   "source": [
    "dataFrame.columns"
   ]
  },
  {
   "cell_type": "markdown",
   "id": "5ad9b1c3",
   "metadata": {},
   "source": [
    "Jeg gemmer min dataframe til senere brug (dataFrameOrg)"
   ]
  },
  {
   "cell_type": "code",
   "execution_count": 12,
   "id": "2b44746c",
   "metadata": {},
   "outputs": [],
   "source": [
    "dataFrameOrg = dataFrame"
   ]
  },
  {
   "cell_type": "code",
   "execution_count": 13,
   "id": "0f460972",
   "metadata": {},
   "outputs": [],
   "source": [
    "y_target = dataFrame['kvalitet']"
   ]
  },
  {
   "cell_type": "markdown",
   "id": "6d7d6b43",
   "metadata": {},
   "source": [
    "og det samme med x, med den forskel at her har vi en hel liste af kolonne navne, så husk dobbelt square bracket (en til pointer og en til liste."
   ]
  },
  {
   "cell_type": "code",
   "execution_count": 14,
   "id": "0df4667b",
   "metadata": {},
   "outputs": [],
   "source": [
    "x_feature = dataFrame[['fast surhedsgrad', 'flygtig surhed', 'citronsyre', 'restsukker',\n",
    "       'chlorider', 'fri svovldioxid', 'total svovldioxid', 'massefylde', 'pH',\n",
    "       'sulfater', 'alkohol']]"
   ]
  },
  {
   "cell_type": "markdown",
   "id": "cc89b980",
   "metadata": {},
   "source": [
    "Lad os nu se på lidt shape"
   ]
  },
  {
   "cell_type": "code",
   "execution_count": 15,
   "id": "bd76bf31",
   "metadata": {},
   "outputs": [
    {
     "data": {
      "text/plain": [
       "(1143,)"
      ]
     },
     "execution_count": 15,
     "metadata": {},
     "output_type": "execute_result"
    }
   ],
   "source": [
    "y_target.shape"
   ]
  },
  {
   "cell_type": "code",
   "execution_count": 16,
   "id": "e8978eb4",
   "metadata": {},
   "outputs": [
    {
     "data": {
      "text/plain": [
       "(1143, 11)"
      ]
     },
     "execution_count": 16,
     "metadata": {},
     "output_type": "execute_result"
    }
   ],
   "source": [
    "x_feature.shape"
   ]
  },
  {
   "cell_type": "markdown",
   "id": "65c60903",
   "metadata": {},
   "source": [
    "Vi kan ud fra tallene se, at target indeholder 1 kolonne (intet nummer efter række tælleren betyder en kolonne) og feature har 11 kolonner."
   ]
  },
  {
   "cell_type": "markdown",
   "id": "5129fff2",
   "metadata": {},
   "source": [
    "## Spliting data"
   ]
  },
  {
   "cell_type": "markdown",
   "id": "c6e29061",
   "metadata": {},
   "source": [
    "Og nu bliver det spændende. Vi skal have splittet vores data i trainings data og test data.  \n",
    "Det gør vi ved at bruge train test split metoden som vi hentede fra model selection, under sklearn"
   ]
  },
  {
   "cell_type": "markdown",
   "id": "6be22769",
   "metadata": {},
   "source": [
    "Nu splitter vi vores features og target i train set og test set (by default 75% / 25%)"
   ]
  },
  {
   "cell_type": "code",
   "execution_count": 17,
   "id": "92ee66ee",
   "metadata": {},
   "outputs": [],
   "source": [
    "x_train, x_test, y_train, y_test = train_test_split(x_feature, y_target)"
   ]
  },
  {
   "cell_type": "code",
   "execution_count": 18,
   "id": "698b2489",
   "metadata": {},
   "outputs": [
    {
     "data": {
      "text/plain": [
       "((857, 11), (286, 11))"
      ]
     },
     "execution_count": 18,
     "metadata": {},
     "output_type": "execute_result"
    }
   ],
   "source": [
    "x_train.shape, x_test.shape"
   ]
  },
  {
   "cell_type": "markdown",
   "id": "e256ab32",
   "metadata": {},
   "source": [
    "75% af 1600 rækker er 1200 rækker, OK"
   ]
  },
  {
   "cell_type": "markdown",
   "id": "bcd019f1",
   "metadata": {},
   "source": [
    "Kig på train_test_split metoden og undersøg alle de **parameter** I kan anvende. Især test og training size samt random state"
   ]
  },
  {
   "cell_type": "markdown",
   "id": "05aa6777",
   "metadata": {},
   "source": [
    "For at vær sikre på altid at få det samme dataset i  både train og test, anvender vi random state 9598 (og 75% / 25%)"
   ]
  },
  {
   "cell_type": "code",
   "execution_count": 19,
   "id": "bd1cb93c",
   "metadata": {},
   "outputs": [],
   "source": [
    "x_train, x_test, y_train, y_test = train_test_split(x_feature, y_target, train_size = 0.75, random_state = 9598)"
   ]
  },
  {
   "cell_type": "markdown",
   "id": "e7f7732b",
   "metadata": {},
   "source": [
    "### Lad os kigge lidt på correlation mellem de enkelte features"
   ]
  },
  {
   "cell_type": "markdown",
   "id": "aff4f4ae",
   "metadata": {},
   "source": [
    "Først finder vi correlationen, som vi viser i en tabel"
   ]
  },
  {
   "cell_type": "code",
   "execution_count": 20,
   "id": "b19a2dca",
   "metadata": {},
   "outputs": [
    {
     "data": {
      "text/html": [
       "<div>\n",
       "<style scoped>\n",
       "    .dataframe tbody tr th:only-of-type {\n",
       "        vertical-align: middle;\n",
       "    }\n",
       "\n",
       "    .dataframe tbody tr th {\n",
       "        vertical-align: top;\n",
       "    }\n",
       "\n",
       "    .dataframe thead th {\n",
       "        text-align: right;\n",
       "    }\n",
       "</style>\n",
       "<table border=\"1\" class=\"dataframe\">\n",
       "  <thead>\n",
       "    <tr style=\"text-align: right;\">\n",
       "      <th></th>\n",
       "      <th>fast surhedsgrad</th>\n",
       "      <th>flygtig surhed</th>\n",
       "      <th>citronsyre</th>\n",
       "      <th>restsukker</th>\n",
       "      <th>chlorider</th>\n",
       "      <th>fri svovldioxid</th>\n",
       "      <th>total svovldioxid</th>\n",
       "      <th>massefylde</th>\n",
       "      <th>pH</th>\n",
       "      <th>sulfater</th>\n",
       "      <th>alkohol</th>\n",
       "      <th>kvalitet</th>\n",
       "    </tr>\n",
       "  </thead>\n",
       "  <tbody>\n",
       "    <tr>\n",
       "      <th>fast surhedsgrad</th>\n",
       "      <td>1.000000</td>\n",
       "      <td>-0.250728</td>\n",
       "      <td>0.673157</td>\n",
       "      <td>0.171831</td>\n",
       "      <td>0.107889</td>\n",
       "      <td>-0.164831</td>\n",
       "      <td>-0.110628</td>\n",
       "      <td>0.681501</td>\n",
       "      <td>-0.685163</td>\n",
       "      <td>0.174592</td>\n",
       "      <td>-0.075055</td>\n",
       "      <td>0.121970</td>\n",
       "    </tr>\n",
       "    <tr>\n",
       "      <th>flygtig surhed</th>\n",
       "      <td>-0.250728</td>\n",
       "      <td>1.000000</td>\n",
       "      <td>-0.544187</td>\n",
       "      <td>-0.005751</td>\n",
       "      <td>0.056336</td>\n",
       "      <td>-0.001962</td>\n",
       "      <td>0.077748</td>\n",
       "      <td>0.016512</td>\n",
       "      <td>0.221492</td>\n",
       "      <td>-0.276079</td>\n",
       "      <td>-0.203909</td>\n",
       "      <td>-0.407394</td>\n",
       "    </tr>\n",
       "    <tr>\n",
       "      <th>citronsyre</th>\n",
       "      <td>0.673157</td>\n",
       "      <td>-0.544187</td>\n",
       "      <td>1.000000</td>\n",
       "      <td>0.175815</td>\n",
       "      <td>0.245312</td>\n",
       "      <td>-0.057589</td>\n",
       "      <td>0.036871</td>\n",
       "      <td>0.375243</td>\n",
       "      <td>-0.546339</td>\n",
       "      <td>0.331232</td>\n",
       "      <td>0.106250</td>\n",
       "      <td>0.240821</td>\n",
       "    </tr>\n",
       "    <tr>\n",
       "      <th>restsukker</th>\n",
       "      <td>0.171831</td>\n",
       "      <td>-0.005751</td>\n",
       "      <td>0.175815</td>\n",
       "      <td>1.000000</td>\n",
       "      <td>0.070863</td>\n",
       "      <td>0.165339</td>\n",
       "      <td>0.190790</td>\n",
       "      <td>0.380147</td>\n",
       "      <td>-0.116959</td>\n",
       "      <td>0.017475</td>\n",
       "      <td>0.058421</td>\n",
       "      <td>0.022002</td>\n",
       "    </tr>\n",
       "    <tr>\n",
       "      <th>chlorider</th>\n",
       "      <td>0.107889</td>\n",
       "      <td>0.056336</td>\n",
       "      <td>0.245312</td>\n",
       "      <td>0.070863</td>\n",
       "      <td>1.000000</td>\n",
       "      <td>0.015280</td>\n",
       "      <td>0.048163</td>\n",
       "      <td>0.208901</td>\n",
       "      <td>-0.277759</td>\n",
       "      <td>0.374784</td>\n",
       "      <td>-0.229917</td>\n",
       "      <td>-0.124085</td>\n",
       "    </tr>\n",
       "    <tr>\n",
       "      <th>fri svovldioxid</th>\n",
       "      <td>-0.164831</td>\n",
       "      <td>-0.001962</td>\n",
       "      <td>-0.057589</td>\n",
       "      <td>0.165339</td>\n",
       "      <td>0.015280</td>\n",
       "      <td>1.000000</td>\n",
       "      <td>0.661093</td>\n",
       "      <td>-0.054150</td>\n",
       "      <td>0.072804</td>\n",
       "      <td>0.034445</td>\n",
       "      <td>-0.047095</td>\n",
       "      <td>-0.063260</td>\n",
       "    </tr>\n",
       "    <tr>\n",
       "      <th>total svovldioxid</th>\n",
       "      <td>-0.110628</td>\n",
       "      <td>0.077748</td>\n",
       "      <td>0.036871</td>\n",
       "      <td>0.190790</td>\n",
       "      <td>0.048163</td>\n",
       "      <td>0.661093</td>\n",
       "      <td>1.000000</td>\n",
       "      <td>0.050175</td>\n",
       "      <td>-0.059126</td>\n",
       "      <td>0.026894</td>\n",
       "      <td>-0.188165</td>\n",
       "      <td>-0.183339</td>\n",
       "    </tr>\n",
       "    <tr>\n",
       "      <th>massefylde</th>\n",
       "      <td>0.681501</td>\n",
       "      <td>0.016512</td>\n",
       "      <td>0.375243</td>\n",
       "      <td>0.380147</td>\n",
       "      <td>0.208901</td>\n",
       "      <td>-0.054150</td>\n",
       "      <td>0.050175</td>\n",
       "      <td>1.000000</td>\n",
       "      <td>-0.352775</td>\n",
       "      <td>0.143139</td>\n",
       "      <td>-0.494727</td>\n",
       "      <td>-0.175208</td>\n",
       "    </tr>\n",
       "    <tr>\n",
       "      <th>pH</th>\n",
       "      <td>-0.685163</td>\n",
       "      <td>0.221492</td>\n",
       "      <td>-0.546339</td>\n",
       "      <td>-0.116959</td>\n",
       "      <td>-0.277759</td>\n",
       "      <td>0.072804</td>\n",
       "      <td>-0.059126</td>\n",
       "      <td>-0.352775</td>\n",
       "      <td>1.000000</td>\n",
       "      <td>-0.185499</td>\n",
       "      <td>0.225322</td>\n",
       "      <td>-0.052453</td>\n",
       "    </tr>\n",
       "    <tr>\n",
       "      <th>sulfater</th>\n",
       "      <td>0.174592</td>\n",
       "      <td>-0.276079</td>\n",
       "      <td>0.331232</td>\n",
       "      <td>0.017475</td>\n",
       "      <td>0.374784</td>\n",
       "      <td>0.034445</td>\n",
       "      <td>0.026894</td>\n",
       "      <td>0.143139</td>\n",
       "      <td>-0.185499</td>\n",
       "      <td>1.000000</td>\n",
       "      <td>0.094421</td>\n",
       "      <td>0.257710</td>\n",
       "    </tr>\n",
       "    <tr>\n",
       "      <th>alkohol</th>\n",
       "      <td>-0.075055</td>\n",
       "      <td>-0.203909</td>\n",
       "      <td>0.106250</td>\n",
       "      <td>0.058421</td>\n",
       "      <td>-0.229917</td>\n",
       "      <td>-0.047095</td>\n",
       "      <td>-0.188165</td>\n",
       "      <td>-0.494727</td>\n",
       "      <td>0.225322</td>\n",
       "      <td>0.094421</td>\n",
       "      <td>1.000000</td>\n",
       "      <td>0.484866</td>\n",
       "    </tr>\n",
       "    <tr>\n",
       "      <th>kvalitet</th>\n",
       "      <td>0.121970</td>\n",
       "      <td>-0.407394</td>\n",
       "      <td>0.240821</td>\n",
       "      <td>0.022002</td>\n",
       "      <td>-0.124085</td>\n",
       "      <td>-0.063260</td>\n",
       "      <td>-0.183339</td>\n",
       "      <td>-0.175208</td>\n",
       "      <td>-0.052453</td>\n",
       "      <td>0.257710</td>\n",
       "      <td>0.484866</td>\n",
       "      <td>1.000000</td>\n",
       "    </tr>\n",
       "  </tbody>\n",
       "</table>\n",
       "</div>"
      ],
      "text/plain": [
       "                   fast surhedsgrad  flygtig surhed  citronsyre  restsukker  \\\n",
       "fast surhedsgrad           1.000000       -0.250728    0.673157    0.171831   \n",
       "flygtig surhed            -0.250728        1.000000   -0.544187   -0.005751   \n",
       "citronsyre                 0.673157       -0.544187    1.000000    0.175815   \n",
       "restsukker                 0.171831       -0.005751    0.175815    1.000000   \n",
       "chlorider                  0.107889        0.056336    0.245312    0.070863   \n",
       "fri svovldioxid           -0.164831       -0.001962   -0.057589    0.165339   \n",
       "total svovldioxid         -0.110628        0.077748    0.036871    0.190790   \n",
       "massefylde                 0.681501        0.016512    0.375243    0.380147   \n",
       "pH                        -0.685163        0.221492   -0.546339   -0.116959   \n",
       "sulfater                   0.174592       -0.276079    0.331232    0.017475   \n",
       "alkohol                   -0.075055       -0.203909    0.106250    0.058421   \n",
       "kvalitet                   0.121970       -0.407394    0.240821    0.022002   \n",
       "\n",
       "                   chlorider  fri svovldioxid  total svovldioxid  massefylde  \\\n",
       "fast surhedsgrad    0.107889        -0.164831          -0.110628    0.681501   \n",
       "flygtig surhed      0.056336        -0.001962           0.077748    0.016512   \n",
       "citronsyre          0.245312        -0.057589           0.036871    0.375243   \n",
       "restsukker          0.070863         0.165339           0.190790    0.380147   \n",
       "chlorider           1.000000         0.015280           0.048163    0.208901   \n",
       "fri svovldioxid     0.015280         1.000000           0.661093   -0.054150   \n",
       "total svovldioxid   0.048163         0.661093           1.000000    0.050175   \n",
       "massefylde          0.208901        -0.054150           0.050175    1.000000   \n",
       "pH                 -0.277759         0.072804          -0.059126   -0.352775   \n",
       "sulfater            0.374784         0.034445           0.026894    0.143139   \n",
       "alkohol            -0.229917        -0.047095          -0.188165   -0.494727   \n",
       "kvalitet           -0.124085        -0.063260          -0.183339   -0.175208   \n",
       "\n",
       "                         pH  sulfater   alkohol  kvalitet  \n",
       "fast surhedsgrad  -0.685163  0.174592 -0.075055  0.121970  \n",
       "flygtig surhed     0.221492 -0.276079 -0.203909 -0.407394  \n",
       "citronsyre        -0.546339  0.331232  0.106250  0.240821  \n",
       "restsukker        -0.116959  0.017475  0.058421  0.022002  \n",
       "chlorider         -0.277759  0.374784 -0.229917 -0.124085  \n",
       "fri svovldioxid    0.072804  0.034445 -0.047095 -0.063260  \n",
       "total svovldioxid -0.059126  0.026894 -0.188165 -0.183339  \n",
       "massefylde        -0.352775  0.143139 -0.494727 -0.175208  \n",
       "pH                 1.000000 -0.185499  0.225322 -0.052453  \n",
       "sulfater          -0.185499  1.000000  0.094421  0.257710  \n",
       "alkohol            0.225322  0.094421  1.000000  0.484866  \n",
       "kvalitet          -0.052453  0.257710  0.484866  1.000000  "
      ]
     },
     "execution_count": 20,
     "metadata": {},
     "output_type": "execute_result"
    }
   ],
   "source": [
    "dataFrameCor = dataFrameOrg.drop(\"Id\", axis = 1)\n",
    "\n",
    "correlation = dataFrameCor.corr()\n",
    "correlation"
   ]
  },
  {
   "cell_type": "markdown",
   "id": "b63dfa05",
   "metadata": {},
   "source": [
    "Og så i et heatmap..."
   ]
  },
  {
   "cell_type": "markdown",
   "id": "b9a550e2",
   "metadata": {},
   "source": [
    "<div class=\"alert-warning\" style=\"border-style: solid; padding:5px;\">\n",
    "<h2>FAKTA BOKS</h2>  \n",
    "    \n",
    "Her er hvad **copilot** siger til visualisering af *korrelation*  \n",
    "    \n",
    "Når der er mange variabler, kan det blive komplekst at visualisere korrelationen mellem dem. Her er nogle tilgange til at håndtere dette:\n",
    "\n",
    "1. Korrelationsmatrix (Heatmap): Opret en korrelationsmatrix, hvor hver celle indeholder korrelationskoefficienten mellem to variabler. Dette giver dig et overblik over, hvordan alle variabler er relateret til hinanden. Jo varmere farven er, desto stærkere er korrelationen.  \n",
    "    \n",
    "2. Dimensionalitetsreduktion: Brug teknikker som PCA (Principal Component Analysis) eller t-SNE (t-distributed Stochastic Neighbor Embedding) til at reducere antallet af dimensioner. Dette gør det lettere at visualisere sammenhængen mellem variablerne i et lavere-dimensionelt rum.  \n",
    "    \n",
    "3. Parplot (Pair Plot): Hvis du har flere variabler, kan du bruge et parplot. Det viser scatterplots for alle kombinationer af variabler. Dette giver dig en visuel idé om, hvordan variablerne hænger sammen.  \n",
    "    \n",
    "4. Netværksgraf: Hvis variablerne repræsenterer forbindelser (f.eks. sociale netværk), kan du oprette et netværksgraf. Hver variabel er en knude, og forbindelserne mellem dem er kanter. Dette hjælper med at identificere komplekse relationer.  \n",
    "    \n",
    "5. Klyngeanalyse: Gruppér lignende variabler i klynger. Dette kan hjælpe med at afsløre mønstre og relationer mellem grupper af variabler.  \n",
    "    \n",
    "<i>Husk, at det bedste valg af metode afhænger af dine data og det specifikke problem, du forsøger at løse.</i>\n",
    "    \n",
    "<b>Hvis du bruger et heatmap til korrelation, kan det hjælpe dig med at visualisere, hvordan to variabler relaterer sig til hinanden. Lad mig forklare:</b>\n",
    "\n",
    "1. Korrelation handler om at forstå, hvor tæt to variabler bevæger sig sammen. Hvis de bevæger sig i samme retning (begge stiger eller falder), er de positivt korrelerede. Hvis de bevæger sig i modsatte retninger (den ene stiger, mens den anden falder), er de negativt korrelerede.  \n",
    "  \n",
    "2. Forestil dig, at vi har data om temperatur og is-salg i en by. Vi vil gerne vide, om der er en sammenhæng mellem disse to variabler. Vi kan bruge et heatmap til at vise, hvor stærkt de to variabler er forbundet.  \n",
    "  \n",
    "3. Her er, hvordan vi gør det:\n",
    "    Vi opretter et heatmap, hvor x-aksen repræsenterer temperatur og y-aksen repræsenterer is-salg.\n",
    "    Hver celle i heatmapet farves baseret på korrelationskoefficienten mellem temperatur og is-salg. Jo varmere farven er, desto stærkere er korrelationen.\n",
    "    Hvis cellen er rød, betyder det, at højere temperaturer er forbundet med mere is-salg (positiv korrelation).\n",
    "    Hvis cellen er blå, betyder det, at højere temperaturer er forbundet med mindre is-salg (negativ korrelation).  \n",
    "    \n",
    "4. Så kort sagt: Et heatmap kan hjælpe os med at se, hvordan to variabler hænger sammen, og om der er en sammenhæng mellem dem. \n",
    "\n",
    "Hvis du vil udforske korrelation mellem specifikke variabler, kan du bruge værktøjer som Python-biblioteket Seaborn til at generere korrelationsheatmaps. \n",
    "</div>"
   ]
  },
  {
   "cell_type": "code",
   "execution_count": 21,
   "id": "0becea4a",
   "metadata": {},
   "outputs": [
    {
     "data": {
      "text/plain": [
       "<Axes: >"
      ]
     },
     "execution_count": 21,
     "metadata": {},
     "output_type": "execute_result"
    },
    {
     "data": {
      "image/png": "[encoded data removed]",
      "text/plain": [
       "<Figure size 640x480 with 2 Axes>"
      ]
     },
     "metadata": {},
     "output_type": "display_data"
    }
   ],
   "source": [
    "#displaying seaborn heatmap for correlation\n",
    "sns.heatmap(correlation.corr(),cmap=\"BrBG\",annot=False)"
   ]
  },
  {
   "cell_type": "markdown",
   "id": "b11e499b",
   "metadata": {},
   "source": [
    "Lad os se på correlationen mellem de enkelte *features* og *target* og lave en <h2> Korrelationstabel </h2>"
   ]
  },
  {
   "cell_type": "code",
   "execution_count": 22,
   "id": "90394f80",
   "metadata": {},
   "outputs": [
    {
     "name": "stdout",
     "output_type": "stream",
     "text": [
      "Variable              : Correlation to Target\n",
      "--------                ---------------------\n",
      "fast surhedsgrad      : 0.121970\n",
      "flygtig surhed        : -0.407394\n",
      "citronsyre            : 0.240821\n",
      "restsukker            : 0.022002\n",
      "chlorider             : -0.124085\n",
      "fri svovldioxid       : -0.063260\n",
      "total svovldioxid     : -0.183339\n",
      "massefylde            : -0.175208\n",
      "pH                    : -0.052453\n",
      "sulfater              : 0.257710\n",
      "alkohol               : 0.484866\n",
      "kvalitet              : 1.000000\n"
     ]
    }
   ],
   "source": [
    "print(\"%-22s: %s\" % (\"Variable\", \"Correlation to Target\"))\n",
    "print(\"%-22s  %s\" % (\"--------\", \"---------------------\"))\n",
    "\n",
    "for i in range(dataFrameOrg.shape[1] - 1):\n",
    "    label = dataFrameOrg.columns[i]\n",
    "    correlation = np.corrcoef(dataFrameOrg[label], dataFrameOrg[\"kvalitet\"])[0, 1]\n",
    "    print(\"%-22s: %f\" % (label, correlation))\n",
    "\n",
    "\n",
    "dataFrameOrg = dataFrameOrg.drop(\"restsukker\", axis = 1)\n",
    "dataFrameOrg = dataFrameOrg.drop(\"pH\", axis = 1)\n",
    "\n",
    "\n",
    "data = np.array(dataFrameOrg)\n",
    "np.random.shuffle(data)"
   ]
  },
  {
   "cell_type": "markdown",
   "id": "9981e080",
   "metadata": {},
   "source": [
    "## Identificere problemets type og valg af model/algoritme"
   ]
  },
  {
   "cell_type": "markdown",
   "id": "ebc2a227",
   "metadata": {},
   "source": [
    "Ved at kigge på *dataFrame.head()*, kan vi se at target (*quality*) er inden for et bestemt område (*3 .. 8*) og ikke et kontinueret nummerisk område. Det vil sige at der er tale om **Classification**, og ikke et **Regressions** promblem .  \n",
    "Når det er **Classification** problem, bruger vi *Logistic Regression* og derefter *KNN*, som vi har importeret."
   ]
  },
  {
   "cell_type": "code",
   "execution_count": 23,
   "id": "6f8b3768",
   "metadata": {},
   "outputs": [],
   "source": [
    "model = LogisticRegression(max_iter = 10000)     # husk kommentar på max_iter (kun brugt sammen med LogisticRegression)\n",
    "knn_clf = KNeighborsClassifier(n_neighbors=5)    # husk også kommentar her"
   ]
  },
  {
   "cell_type": "markdown",
   "id": "d3426b3f",
   "metadata": {},
   "source": [
    "## Først træner vi Logistic data og tilpaser modelen"
   ]
  },
  {
   "cell_type": "code",
   "execution_count": 24,
   "id": "298a2745",
   "metadata": {},
   "outputs": [
    {
     "data": {
      "text/html": [
       "<style>#sk-container-id-1 {color: black;}#sk-container-id-1 pre{padding: 0;}#sk-container-id-1 div.sk-toggleable {background-color: white;}#sk-container-id-1 label.sk-toggleable__label {cursor: pointer;display: block;width: 100%;margin-bottom: 0;padding: 0.3em;box-sizing: border-box;text-align: center;}#sk-container-id-1 label.sk-toggleable__label-arrow:before {content: \"▸\";float: left;margin-right: 0.25em;color: #696969;}#sk-container-id-1 label.sk-toggleable__label-arrow:hover:before {color: black;}#sk-container-id-1 div.sk-estimator:hover label.sk-toggleable__label-arrow:before {color: black;}#sk-container-id-1 div.sk-toggleable__content {max-height: 0;max-width: 0;overflow: hidden;text-align: left;background-color: #f0f8ff;}#sk-container-id-1 div.sk-toggleable__content pre {margin: 0.2em;color: black;border-radius: 0.25em;background-color: #f0f8ff;}#sk-container-id-1 input.sk-toggleable__control:checked~div.sk-toggleable__content {max-height: 200px;max-width: 100%;overflow: auto;}#sk-container-id-1 input.sk-toggleable__control:checked~label.sk-toggleable__label-arrow:before {content: \"▾\";}#sk-container-id-1 div.sk-estimator input.sk-toggleable__control:checked~label.sk-toggleable__label {background-color: #d4ebff;}#sk-container-id-1 div.sk-label input.sk-toggleable__control:checked~label.sk-toggleable__label {background-color: #d4ebff;}#sk-container-id-1 input.sk-hidden--visually {border: 0;clip: rect(1px 1px 1px 1px);clip: rect(1px, 1px, 1px, 1px);height: 1px;margin: -1px;overflow: hidden;padding: 0;position: absolute;width: 1px;}#sk-container-id-1 div.sk-estimator {font-family: monospace;background-color: #f0f8ff;border: 1px dotted black;border-radius: 0.25em;box-sizing: border-box;margin-bottom: 0.5em;}#sk-container-id-1 div.sk-estimator:hover {background-color: #d4ebff;}#sk-container-id-1 div.sk-parallel-item::after {content: \"\";width: 100%;border-bottom: 1px solid gray;flex-grow: 1;}#sk-container-id-1 div.sk-label:hover label.sk-toggleable__label {background-color: #d4ebff;}#sk-container-id-1 div.sk-serial::before {content: \"\";position: absolute;border-left: 1px solid gray;box-sizing: border-box;top: 0;bottom: 0;left: 50%;z-index: 0;}#sk-container-id-1 div.sk-serial {display: flex;flex-direction: column;align-items: center;background-color: white;padding-right: 0.2em;padding-left: 0.2em;position: relative;}#sk-container-id-1 div.sk-item {position: relative;z-index: 1;}#sk-container-id-1 div.sk-parallel {display: flex;align-items: stretch;justify-content: center;background-color: white;position: relative;}#sk-container-id-1 div.sk-item::before, #sk-container-id-1 div.sk-parallel-item::before {content: \"\";position: absolute;border-left: 1px solid gray;box-sizing: border-box;top: 0;bottom: 0;left: 50%;z-index: -1;}#sk-container-id-1 div.sk-parallel-item {display: flex;flex-direction: column;z-index: 1;position: relative;background-color: white;}#sk-container-id-1 div.sk-parallel-item:first-child::after {align-self: flex-end;width: 50%;}#sk-container-id-1 div.sk-parallel-item:last-child::after {align-self: flex-start;width: 50%;}#sk-container-id-1 div.sk-parallel-item:only-child::after {width: 0;}#sk-container-id-1 div.sk-dashed-wrapped {border: 1px dashed gray;margin: 0 0.4em 0.5em 0.4em;box-sizing: border-box;padding-bottom: 0.4em;background-color: white;}#sk-container-id-1 div.sk-label label {font-family: monospace;font-weight: bold;display: inline-block;line-height: 1.2em;}#sk-container-id-1 div.sk-label-container {text-align: center;}#sk-container-id-1 div.sk-container {/* jupyter's `normalize.less` sets `[hidden] { display: none; }` but bootstrap.min.css set `[hidden] { display: none !important; }` so we also need the `!important` here to be able to override the default hidden behavior on the sphinx rendered scikit-learn.org. See: https://github.com/scikit-learn/scikit-learn/issues/21755 */display: inline-block !important;position: relative;}#sk-container-id-1 div.sk-text-repr-fallback {display: none;}</style><div id=\"sk-container-id-1\" class=\"sk-top-container\"><div class=\"sk-text-repr-fallback\"><pre>LogisticRegression(max_iter=10000)</pre><b>In a Jupyter environment, please rerun this cell to show the HTML representation or trust the notebook. <br />On GitHub, the HTML representation is unable to render, please try loading this page with nbviewer.org.</b></div><div class=\"sk-container\" hidden><div class=\"sk-item\"><div class=\"sk-estimator sk-toggleable\"><input class=\"sk-toggleable__control sk-hidden--visually\" id=\"sk-estimator-id-1\" type=\"checkbox\" checked><label for=\"sk-estimator-id-1\" class=\"sk-toggleable__label sk-toggleable__label-arrow\">LogisticRegression</label><div class=\"sk-toggleable__content\"><pre>LogisticRegression(max_iter=10000)</pre></div></div></div></div></div>"
      ],
      "text/plain": [
       "LogisticRegression(max_iter=10000)"
      ]
     },
     "execution_count": 24,
     "metadata": {},
     "output_type": "execute_result"
    }
   ],
   "source": [
    "model.fit(x_train, y_train)"
   ]
  },
  {
   "cell_type": "markdown",
   "id": "224460c0",
   "metadata": {},
   "source": [
    "## forudsig resultat"
   ]
  },
  {
   "cell_type": "markdown",
   "id": "cd535313",
   "metadata": {},
   "source": [
    "Predict the Model error = actual - predict"
   ]
  },
  {
   "cell_type": "code",
   "execution_count": 25,
   "id": "0c68b712",
   "metadata": {},
   "outputs": [
    {
     "data": {
      "text/plain": [
       "array([6, 6, 6, 7, 6, 5, 5, 5, 6, 6, 7, 6, 6, 6, 6, 6, 6, 5, 6, 5, 6, 5,\n",
       "       5, 6, 6, 6, 6, 5, 6, 5, 6, 5, 5, 5, 5, 7, 5, 6, 6, 6, 5, 5, 6, 6,\n",
       "       6, 5, 6, 6, 6, 6, 5, 5, 6, 6, 6, 6, 5, 7, 5, 6, 5, 6, 6, 6, 6, 6,\n",
       "       6, 6, 6, 5, 5, 6, 7, 6, 5, 5, 5, 6, 6, 6, 5, 5, 5, 6, 7, 6, 6, 6,\n",
       "       6, 5, 5, 6, 6, 6, 6, 5, 5, 6, 6, 6, 5, 7, 6, 6, 5, 5, 5, 6, 6, 6,\n",
       "       5, 6, 7, 5, 6, 7, 5, 5, 6, 6, 5, 5, 6, 5, 5, 5, 6, 5, 6, 5, 6, 6,\n",
       "       7, 6, 6, 5, 5, 5, 6, 6, 6, 5, 5, 7, 5, 6, 5, 6, 6, 7, 5, 6, 6, 5,\n",
       "       6, 5, 6, 5, 6, 5, 5, 5, 5, 6, 6, 5, 5, 6, 5, 7, 5, 5, 6, 5, 5, 6,\n",
       "       5, 5, 6, 6, 6, 5, 6, 6, 5, 5, 5, 6, 5, 5, 5, 5, 6, 6, 5, 6, 6, 5,\n",
       "       6, 5, 6, 5, 6, 5, 5, 6, 5, 5, 6, 6, 5, 6, 5, 6, 6, 6, 5, 6, 7, 6,\n",
       "       7, 6, 6, 5, 7, 5, 5, 6, 7, 6, 7, 5, 5, 5, 5, 6, 6, 7, 7, 6, 6, 5,\n",
       "       6, 5, 6, 5, 6, 5, 5, 5, 5, 6, 6, 5, 6, 6, 6, 5, 5, 5, 6, 6, 6, 5,\n",
       "       5, 5, 5, 5, 6, 5, 5, 6, 5, 5, 6, 5, 5, 6, 5, 5, 6, 7, 6, 3, 5, 6],\n",
       "      dtype=int64)"
      ]
     },
     "execution_count": 25,
     "metadata": {},
     "output_type": "execute_result"
    }
   ],
   "source": [
    "y_pred = model.predict(x_test)\n",
    "\n",
    "y_pred # og vi ser lige y_pred"
   ]
  },
  {
   "cell_type": "markdown",
   "id": "ace4bf02",
   "metadata": {},
   "source": [
    "Forudsigelser ud fra de 286 test værdier. ??"
   ]
  },
  {
   "cell_type": "markdown",
   "id": "19b12130",
   "metadata": {},
   "source": [
    "## Modellens nøjagtighed"
   ]
  },
  {
   "cell_type": "code",
   "execution_count": 26,
   "id": "f8ee2529",
   "metadata": {},
   "outputs": [
    {
     "data": {
      "text/plain": [
       "0.5734265734265734"
      ]
     },
     "execution_count": 26,
     "metadata": {},
     "output_type": "execute_result"
    }
   ],
   "source": [
    "accuracy_score(y_test, y_pred)"
   ]
  },
  {
   "cell_type": "code",
   "execution_count": 27,
   "id": "ecba107e",
   "metadata": {},
   "outputs": [
    {
     "name": "stdout",
     "output_type": "stream",
     "text": [
      "              precision    recall  f1-score   support\n",
      "\n",
      "           3       0.00      0.00      0.00         1\n",
      "           4       0.00      0.00      0.00        12\n",
      "           5       0.63      0.70      0.66       111\n",
      "           6       0.56      0.63      0.59       124\n",
      "           7       0.38      0.23      0.29        35\n",
      "           8       0.00      0.00      0.00         3\n",
      "\n",
      "    accuracy                           0.57       286\n",
      "   macro avg       0.26      0.26      0.26       286\n",
      "weighted avg       0.53      0.57      0.55       286\n",
      "\n"
     ]
    },
    {
     "name": "stderr",
     "output_type": "stream",
     "text": [
      "C:\\Users\\thr\\AppData\\Local\\anaconda3\\Lib\\site-packages\\sklearn\\metrics\\_classification.py:1469: UndefinedMetricWarning: Precision and F-score are ill-defined and being set to 0.0 in labels with no predicted samples. Use `zero_division` parameter to control this behavior.\n",
      "  _warn_prf(average, modifier, msg_start, len(result))\n",
      "C:\\Users\\thr\\AppData\\Local\\anaconda3\\Lib\\site-packages\\sklearn\\metrics\\_classification.py:1469: UndefinedMetricWarning: Precision and F-score are ill-defined and being set to 0.0 in labels with no predicted samples. Use `zero_division` parameter to control this behavior.\n",
      "  _warn_prf(average, modifier, msg_start, len(result))\n",
      "C:\\Users\\thr\\AppData\\Local\\anaconda3\\Lib\\site-packages\\sklearn\\metrics\\_classification.py:1469: UndefinedMetricWarning: Precision and F-score are ill-defined and being set to 0.0 in labels with no predicted samples. Use `zero_division` parameter to control this behavior.\n",
      "  _warn_prf(average, modifier, msg_start, len(result))\n"
     ]
    }
   ],
   "source": [
    "cr = classification_report(y_test, y_pred)\n",
    "print(cr)"
   ]
  },
  {
   "cell_type": "markdown",
   "id": "b10fa312",
   "metadata": {},
   "source": [
    "<div class=\"alert-warning\" style=\"border-style: solid; padding:5px;\">\n",
    "<h2>FAKTA BOKS</h2>  \n",
    "    \n",
    "Her er hvad **copilot** siger til *flerklasse forvirringsmatrix*  \n",
    "  \n",
    "En flerklasse-forvirringsmatrix fungerer på samme måde som en enkeltklasse-forvirringsmatrix, men den håndterer flere klasser i stedet for kun to. Lad mig forklare:\n",
    "\n",
    "Struktur:\n",
    "I en flerklasse-forvirringsmatrix har vi rækker og kolonner for hver klasse.\n",
    "Forventede klasser er på rækkerne, og forudsagte klasser er på kolonnerne.\n",
    "Eksempel:\n",
    "Forestil dig, vi har en model, der skal forudsige, om et billede indeholder en hund, en kat eller en fugl.\n",
    "Vores flerklasse-forvirringsmatrix kan se sådan ud:\n",
    "  \n",
    " ![eksempel](confusionMatrixExample.png)\n",
    "  \n",
    "I dette eksempel:\n",
    "80 billeder af hunde blev korrekt forudsagt som hunde.\n",
    "70 billeder af katte blev korrekt forudsagt som katte.\n",
    "85 billeder af fugle blev korrekt forudsagt som fugle.\n",
    "Der er også nogle fejl, f.eks. 10 kattebilleder, der blev forkert forudsagt som hunde.\n",
    "Metrikker:\n",
    "Ud over nøjagtighed kan vi beregne andre metrikker som præcision, følsomhed og F1-score for hver klasse.\n",
    "Det hjælper os med at forstå, hvilke klasser modellen har svært ved at skelne mellem.\n",
    "Så kort sagt: En flerklasse-forvirringsmatrix giver os mere detaljeret indsigt i, hvordan en model klarer sig for flere klasser .\n",
    "</div>"
   ]
  },
  {
   "cell_type": "code",
   "execution_count": 28,
   "id": "ad86bb07",
   "metadata": {},
   "outputs": [
    {
     "data": {
      "text/plain": [
       "array([[ 0,  0,  1,  0,  0,  0],\n",
       "       [ 0,  0,  6,  5,  1,  0],\n",
       "       [ 1,  0, 78, 30,  2,  0],\n",
       "       [ 0,  0, 37, 78,  9,  0],\n",
       "       [ 0,  0,  2, 25,  8,  0],\n",
       "       [ 0,  0,  0,  2,  1,  0]], dtype=int64)"
      ]
     },
     "execution_count": 28,
     "metadata": {},
     "output_type": "execute_result"
    }
   ],
   "source": [
    "cm = confusion_matrix(y_test, y_pred)\n",
    "cm"
   ]
  },
  {
   "cell_type": "code",
   "execution_count": 29,
   "id": "77c52898",
   "metadata": {},
   "outputs": [
    {
     "data": {
      "text/plain": [
       "<sklearn.metrics._plot.confusion_matrix.ConfusionMatrixDisplay at 0x2af23999250>"
      ]
     },
     "execution_count": 29,
     "metadata": {},
     "output_type": "execute_result"
    },
    {
     "data": {
      "image/png": "[encoded data removed]",
      "text/plain": [
       "<Figure size 640x480 with 2 Axes>"
      ]
     },
     "metadata": {},
     "output_type": "display_data"
    }
   ],
   "source": [
    "cmd = ConfusionMatrixDisplay(cm, display_labels=model.classes_)\n",
    "cmd.plot()"
   ]
  },
  {
   "cell_type": "markdown",
   "id": "6b326943",
   "metadata": {},
   "source": [
    "## Så træner vi KNN data og tilpaser modelen  "
   ]
  },
  {
   "cell_type": "code",
   "execution_count": 30,
   "id": "f7912474",
   "metadata": {},
   "outputs": [],
   "source": [
    "classifier = knn_clf.fit(x_train, y_train)"
   ]
  },
  {
   "cell_type": "code",
   "execution_count": 31,
   "id": "2ad3e4c0",
   "metadata": {},
   "outputs": [],
   "source": [
    "y_pred = classifier.predict(x_test)"
   ]
  },
  {
   "cell_type": "code",
   "execution_count": 32,
   "id": "83b17d6d",
   "metadata": {},
   "outputs": [
    {
     "name": "stdout",
     "output_type": "stream",
     "text": [
      "[[ 0  0  1  0  0  0]\n",
      " [ 0  0 11  1  0  0]\n",
      " [ 0  1 75 33  2  0]\n",
      " [ 0  0 67 50  7  0]\n",
      " [ 0  0 14 13  8  0]\n",
      " [ 0  0  2  1  0  0]]\n"
     ]
    }
   ],
   "source": [
    "print(confusion_matrix(y_test,y_pred))"
   ]
  },
  {
   "cell_type": "markdown",
   "id": "22421877",
   "metadata": {},
   "source": [
    "Eller i et ConfusionMatrixDisplay:"
   ]
  },
  {
   "cell_type": "code",
   "execution_count": 33,
   "id": "319fa5cb",
   "metadata": {},
   "outputs": [
    {
     "data": {
      "text/plain": [
       "<sklearn.metrics._plot.confusion_matrix.ConfusionMatrixDisplay at 0x2af23b24090>"
      ]
     },
     "execution_count": 33,
     "metadata": {},
     "output_type": "execute_result"
    },
    {
     "data": {
      "image/png": "[encoded data removed]",
      "text/plain": [
       "<Figure size 640x480 with 2 Axes>"
      ]
     },
     "metadata": {},
     "output_type": "display_data"
    }
   ],
   "source": [
    "cmt = confusion_matrix(y_test,y_pred)\n",
    "cmdt = ConfusionMatrixDisplay(cmt, display_labels=model.classes_)\n",
    "cmdt.plot()"
   ]
  },
  {
   "cell_type": "code",
   "execution_count": 34,
   "id": "230e43ec",
   "metadata": {},
   "outputs": [
    {
     "name": "stdout",
     "output_type": "stream",
     "text": [
      "              precision    recall  f1-score   support\n",
      "\n",
      "           3       0.00      0.00      0.00         1\n",
      "           4       0.00      0.00      0.00        12\n",
      "           5       0.44      0.68      0.53       111\n",
      "           6       0.51      0.40      0.45       124\n",
      "           7       0.47      0.23      0.31        35\n",
      "           8       0.00      0.00      0.00         3\n",
      "\n",
      "    accuracy                           0.47       286\n",
      "   macro avg       0.24      0.22      0.22       286\n",
      "weighted avg       0.45      0.47      0.44       286\n",
      "\n"
     ]
    },
    {
     "name": "stderr",
     "output_type": "stream",
     "text": [
      "C:\\Users\\thr\\AppData\\Local\\anaconda3\\Lib\\site-packages\\sklearn\\metrics\\_classification.py:1469: UndefinedMetricWarning: Precision and F-score are ill-defined and being set to 0.0 in labels with no predicted samples. Use `zero_division` parameter to control this behavior.\n",
      "  _warn_prf(average, modifier, msg_start, len(result))\n",
      "C:\\Users\\thr\\AppData\\Local\\anaconda3\\Lib\\site-packages\\sklearn\\metrics\\_classification.py:1469: UndefinedMetricWarning: Precision and F-score are ill-defined and being set to 0.0 in labels with no predicted samples. Use `zero_division` parameter to control this behavior.\n",
      "  _warn_prf(average, modifier, msg_start, len(result))\n",
      "C:\\Users\\thr\\AppData\\Local\\anaconda3\\Lib\\site-packages\\sklearn\\metrics\\_classification.py:1469: UndefinedMetricWarning: Precision and F-score are ill-defined and being set to 0.0 in labels with no predicted samples. Use `zero_division` parameter to control this behavior.\n",
      "  _warn_prf(average, modifier, msg_start, len(result))\n"
     ]
    }
   ],
   "source": [
    "print(classification_report(y_test,y_pred))"
   ]
  },
  {
   "cell_type": "code",
   "execution_count": 35,
   "id": "c9e556da",
   "metadata": {},
   "outputs": [
    {
     "name": "stdout",
     "output_type": "stream",
     "text": [
      "0.46503496503496505\n"
     ]
    }
   ],
   "source": [
    "print(accuracy_score(y_test, y_pred))"
   ]
  },
  {
   "cell_type": "markdown",
   "id": "574924cc",
   "metadata": {},
   "source": [
    "#### lidt ekstra - Cross Validation Performance Plot "
   ]
  },
  {
   "cell_type": "markdown",
   "id": "ebc48d4d",
   "metadata": {},
   "source": [
    "<div class=\"alert-warning\" style=\"border-style: solid; padding:5px;\">\n",
    "    <h2>FAKTA BOKS</h2>  \n",
    "    \n",
    "Her er hvad **copilot** siger til *krydsvalideringsmodellen*:  \n",
    "  \n",
    "Når vi træner en maskinlæringsmodel, ønsker vi at evaluere dens præstation på data, som den ikke tidligere har set. Dette er vigtigt for at undgå overtilpasning, hvor modellen lærer at huske træningsdataene uden at generalisere godt til nye data.\n",
    "\n",
    "Her er, hvordan krydsvalidering hjælper os med at gøre dette:\n",
    "\n",
    "Opdeling af data: Vi deler vores tilgængelige data i tre dele:\n",
    "Træningssæt: Bruges til at træne modellen.\n",
    "Valideringssæt: Bruges til at justere modellens parametre og undgå overtilpasning.\n",
    "Testssæt: Bruges til endelig evaluering af modellen.\n",
    "Krydsvalidering (CV): I stedet for at bruge et enkelt valideringssæt, opdeler vi træningssættet i mindre dele (kaldet fold). Vi træner modellen på n-1 fold og evaluerer den på den sidste fold. Dette gentages n gange, hvor hver fold fungerer som valideringssæt. Resultaterne fra alle n evalueringer kombineres for at få en mere robust præstationsmåling.\n",
    "Performance Plot: Dette er en graf, der viser, hvordan modellen klarer sig på forskellige valideringsfolds. Vi kan se, om modellen har tendens til at overtilpasse eller underpræstere. Hvis punkterne på plottet er tæt på hinanden, betyder det, at modellen generaliserer godt.\n",
    "Så kort sagt: Cross Validation Performance Plot hjælper os med at vurdere, hvor godt vores model klarer sig på ukendte data ved at bruge krydsvalideringsteknikken.  \n",
    "    </div>"
   ]
  },
  {
   "cell_type": "code",
   "execution_count": 36,
   "id": "5cf09f3b",
   "metadata": {},
   "outputs": [
    {
     "data": {
      "image/png": "[encoded data removed]",
      "text/plain": [
       "<Figure size 1000x400 with 1 Axes>"
      ]
     },
     "metadata": {},
     "output_type": "display_data"
    }
   ],
   "source": [
    "skplt.estimators.plot_learning_curve(LogisticRegression(), x_feature, y_target,\n",
    "                                     cv=6, shuffle=True, scoring=\"accuracy\",\n",
    "                                     n_jobs=-1, figsize=(10,4), title_fontsize=\"large\", text_fontsize=\"large\",\n",
    "                                     title=\"WineQuality Classification Learning Curve\");"
   ]
  },
  {
   "cell_type": "markdown",
   "id": "33ad722e",
   "metadata": {},
   "source": [
    "  "
   ]
  },
  {
   "cell_type": "markdown",
   "id": "99bac2c7",
   "metadata": {},
   "source": [
    "## Forudsigelse og træning med færre features"
   ]
  },
  {
   "cell_type": "markdown",
   "id": "8a97fdb7",
   "metadata": {},
   "source": [
    "Vi kan se på accuracy scorren, at det ikke er gået så godt med den trænede model. Vi vil derfor, ud fra korrelationstabellen, forsøg at fjerne de features som den dårligste korrelation med kvaliteten (target).  \n",
    "  \n",
    "*Vi fjerne:*  \n",
    "\n",
    "restsukker            : 0.022002  \n",
    "fri svovldioxid       : -0.063260  \n",
    "pH                    : -0.052453  "
   ]
  },
  {
   "cell_type": "code",
   "execution_count": 37,
   "id": "e82ee12d",
   "metadata": {},
   "outputs": [],
   "source": [
    "x_feature = dataFrame[['fast surhedsgrad', 'flygtig surhed', 'citronsyre',\n",
    "       'chlorider', 'total svovldioxid', 'massefylde', 'sulfater', 'alkohol']]"
   ]
  },
  {
   "cell_type": "markdown",
   "id": "fc480aa7",
   "metadata": {},
   "source": [
    "**Så splitter vi data:**"
   ]
  },
  {
   "cell_type": "code",
   "execution_count": 38,
   "id": "f5506480",
   "metadata": {},
   "outputs": [],
   "source": [
    "x_train, x_test, y_train, y_test = train_test_split(x_feature, y_target, train_size = 0.75, random_state = 9598)"
   ]
  },
  {
   "cell_type": "markdown",
   "id": "f58bdc12",
   "metadata": {},
   "source": [
    "**Først træner vi Logistic data og tilpaser modelen**"
   ]
  },
  {
   "cell_type": "code",
   "execution_count": 39,
   "id": "787ec2a7",
   "metadata": {},
   "outputs": [
    {
     "data": {
      "text/html": [
       "<style>#sk-container-id-2 {color: black;}#sk-container-id-2 pre{padding: 0;}#sk-container-id-2 div.sk-toggleable {background-color: white;}#sk-container-id-2 label.sk-toggleable__label {cursor: pointer;display: block;width: 100%;margin-bottom: 0;padding: 0.3em;box-sizing: border-box;text-align: center;}#sk-container-id-2 label.sk-toggleable__label-arrow:before {content: \"▸\";float: left;margin-right: 0.25em;color: #696969;}#sk-container-id-2 label.sk-toggleable__label-arrow:hover:before {color: black;}#sk-container-id-2 div.sk-estimator:hover label.sk-toggleable__label-arrow:before {color: black;}#sk-container-id-2 div.sk-toggleable__content {max-height: 0;max-width: 0;overflow: hidden;text-align: left;background-color: #f0f8ff;}#sk-container-id-2 div.sk-toggleable__content pre {margin: 0.2em;color: black;border-radius: 0.25em;background-color: #f0f8ff;}#sk-container-id-2 input.sk-toggleable__control:checked~div.sk-toggleable__content {max-height: 200px;max-width: 100%;overflow: auto;}#sk-container-id-2 input.sk-toggleable__control:checked~label.sk-toggleable__label-arrow:before {content: \"▾\";}#sk-container-id-2 div.sk-estimator input.sk-toggleable__control:checked~label.sk-toggleable__label {background-color: #d4ebff;}#sk-container-id-2 div.sk-label input.sk-toggleable__control:checked~label.sk-toggleable__label {background-color: #d4ebff;}#sk-container-id-2 input.sk-hidden--visually {border: 0;clip: rect(1px 1px 1px 1px);clip: rect(1px, 1px, 1px, 1px);height: 1px;margin: -1px;overflow: hidden;padding: 0;position: absolute;width: 1px;}#sk-container-id-2 div.sk-estimator {font-family: monospace;background-color: #f0f8ff;border: 1px dotted black;border-radius: 0.25em;box-sizing: border-box;margin-bottom: 0.5em;}#sk-container-id-2 div.sk-estimator:hover {background-color: #d4ebff;}#sk-container-id-2 div.sk-parallel-item::after {content: \"\";width: 100%;border-bottom: 1px solid gray;flex-grow: 1;}#sk-container-id-2 div.sk-label:hover label.sk-toggleable__label {background-color: #d4ebff;}#sk-container-id-2 div.sk-serial::before {content: \"\";position: absolute;border-left: 1px solid gray;box-sizing: border-box;top: 0;bottom: 0;left: 50%;z-index: 0;}#sk-container-id-2 div.sk-serial {display: flex;flex-direction: column;align-items: center;background-color: white;padding-right: 0.2em;padding-left: 0.2em;position: relative;}#sk-container-id-2 div.sk-item {position: relative;z-index: 1;}#sk-container-id-2 div.sk-parallel {display: flex;align-items: stretch;justify-content: center;background-color: white;position: relative;}#sk-container-id-2 div.sk-item::before, #sk-container-id-2 div.sk-parallel-item::before {content: \"\";position: absolute;border-left: 1px solid gray;box-sizing: border-box;top: 0;bottom: 0;left: 50%;z-index: -1;}#sk-container-id-2 div.sk-parallel-item {display: flex;flex-direction: column;z-index: 1;position: relative;background-color: white;}#sk-container-id-2 div.sk-parallel-item:first-child::after {align-self: flex-end;width: 50%;}#sk-container-id-2 div.sk-parallel-item:last-child::after {align-self: flex-start;width: 50%;}#sk-container-id-2 div.sk-parallel-item:only-child::after {width: 0;}#sk-container-id-2 div.sk-dashed-wrapped {border: 1px dashed gray;margin: 0 0.4em 0.5em 0.4em;box-sizing: border-box;padding-bottom: 0.4em;background-color: white;}#sk-container-id-2 div.sk-label label {font-family: monospace;font-weight: bold;display: inline-block;line-height: 1.2em;}#sk-container-id-2 div.sk-label-container {text-align: center;}#sk-container-id-2 div.sk-container {/* jupyter's `normalize.less` sets `[hidden] { display: none; }` but bootstrap.min.css set `[hidden] { display: none !important; }` so we also need the `!important` here to be able to override the default hidden behavior on the sphinx rendered scikit-learn.org. See: https://github.com/scikit-learn/scikit-learn/issues/21755 */display: inline-block !important;position: relative;}#sk-container-id-2 div.sk-text-repr-fallback {display: none;}</style><div id=\"sk-container-id-2\" class=\"sk-top-container\"><div class=\"sk-text-repr-fallback\"><pre>LogisticRegression(max_iter=10000)</pre><b>In a Jupyter environment, please rerun this cell to show the HTML representation or trust the notebook. <br />On GitHub, the HTML representation is unable to render, please try loading this page with nbviewer.org.</b></div><div class=\"sk-container\" hidden><div class=\"sk-item\"><div class=\"sk-estimator sk-toggleable\"><input class=\"sk-toggleable__control sk-hidden--visually\" id=\"sk-estimator-id-2\" type=\"checkbox\" checked><label for=\"sk-estimator-id-2\" class=\"sk-toggleable__label sk-toggleable__label-arrow\">LogisticRegression</label><div class=\"sk-toggleable__content\"><pre>LogisticRegression(max_iter=10000)</pre></div></div></div></div></div>"
      ],
      "text/plain": [
       "LogisticRegression(max_iter=10000)"
      ]
     },
     "execution_count": 39,
     "metadata": {},
     "output_type": "execute_result"
    }
   ],
   "source": [
    "model.fit(x_train, y_train)"
   ]
  },
  {
   "cell_type": "markdown",
   "id": "82fd08bb",
   "metadata": {},
   "source": [
    "**Så forudsiger vi resultatet.**"
   ]
  },
  {
   "cell_type": "code",
   "execution_count": 40,
   "id": "c37e773b",
   "metadata": {},
   "outputs": [],
   "source": [
    "y_pred = model.predict(x_test)"
   ]
  },
  {
   "cell_type": "markdown",
   "id": "782b41d5",
   "metadata": {},
   "source": [
    "**Og finder modellens nøjagtighed.**"
   ]
  },
  {
   "cell_type": "code",
   "execution_count": 41,
   "id": "8d629239",
   "metadata": {},
   "outputs": [
    {
     "data": {
      "text/plain": [
       "0.5664335664335665"
      ]
     },
     "execution_count": 41,
     "metadata": {},
     "output_type": "execute_result"
    }
   ],
   "source": [
    "accuracy_score(y_test, y_pred)"
   ]
  },
  {
   "cell_type": "markdown",
   "id": "2177b9af",
   "metadata": {},
   "source": [
    "**Vi kan ud fra accuracy_score se at accuracy ved færre features og logisticRegressionsmodel, ser ud til at blive mindre (0.5664 mod 0.5734) ved mange features.**"
   ]
  },
  {
   "cell_type": "markdown",
   "id": "6e4d856b",
   "metadata": {},
   "source": [
    "**Så træner vi den med KNN modellen**"
   ]
  },
  {
   "cell_type": "code",
   "execution_count": 42,
   "id": "404df2b6",
   "metadata": {},
   "outputs": [],
   "source": [
    "classifier = knn_clf.fit(x_train, y_train)"
   ]
  },
  {
   "cell_type": "markdown",
   "id": "57b59d24",
   "metadata": {},
   "source": [
    "**Og forudsiger resultatet.**"
   ]
  },
  {
   "cell_type": "code",
   "execution_count": 43,
   "id": "2ef9412e",
   "metadata": {},
   "outputs": [],
   "source": [
    "y_pred = classifier.predict(x_test)"
   ]
  },
  {
   "cell_type": "markdown",
   "id": "213ef914",
   "metadata": {},
   "source": [
    "**Og finder denne models nøjagtighed.**"
   ]
  },
  {
   "cell_type": "code",
   "execution_count": 44,
   "id": "e95a68f1",
   "metadata": {},
   "outputs": [
    {
     "name": "stdout",
     "output_type": "stream",
     "text": [
      "0.5209790209790209\n"
     ]
    }
   ],
   "source": [
    "print(accuracy_score(y_test, y_pred))"
   ]
  },
  {
   "cell_type": "markdown",
   "id": "7d9600e7",
   "metadata": {},
   "source": [
    "**Nu viser det sig at accuracy_scorren af accuracy ved færre features og KNN modellen, ser ud til at være bedre (0.5210 mod 0.4650) end ved mange features, hvoraf mange havde dårlig korrelation.**"
   ]
  },
  {
   "cell_type": "markdown",
   "id": "be4de6c4",
   "metadata": {},
   "source": [
    "<div class=\"alert-warning\" style=\"border-style: solid; padding:5px;\">\n",
    "    <h2>FAKTA BOKS</h2>  \n",
    "    \n",
    "Her er hvad **copilot** siger til anvendelsen af *Logistisk Regression* modellen og *K-Nearest Neighbors* modellen:  \n",
    "  \n",
    "Når du reducerer antallet af funktioner (features) i dit maskinlæringsproblem, er det vigtigt at vælge den rette algoritme. Lad os sammenligne Logistisk Regression og K-Nearest Neighbors (KNN) for at afgøre, hvilken der passer bedst til din situation:\n",
    "\n",
    "1. Logistisk Regression:\n",
    "    * Beskrivelse: Logistisk regression er en klassifikationsalgoritme, der arbejder ud fra princippet om maksimal likelihood-estimering. Den fungerer godt på lineære data og er nem at implementere.  \n",
    "    * Fordele:  \n",
    "        * En bekvem, hurtig og enkel metode til klassifikation.  \n",
    "        * Parametrene angiver retningen og intensiteten af betydningen af de uafhængige variable for den afhængige variabel.  \n",
    "        * Kan bruges til flerklassesklassifikation.  \n",
    "        * Tabelfunktionen er altid konveks.  \n",
    "    * Ulemper:  \n",
    "        * Kan ikke udvides til problemer med ikke-lineær klassifikation.  \n",
    "        * Kræver korrekt valg af funktioner (features).  \n",
    "        * Kræver en god signal-til-støj-forhold.  \n",
    "2. K-Nearest Neighbors (KNN):  \n",
    "    * Beskrivelse: KNN er en ikke-parametrisk tilgang, der bruges til både klassifikation og regression. Det er en af de enkleste metoder inden for maskinlæring.  \n",
    "    * Fordele:  \n",
    "        * Bruger lokal tilnærmelse og er en “dovent” model, der kun laver forudsigelser under testfasen.  \n",
    "        * Grundlæggende logik: Udforsk nabolaget, antag, at de er sammenlignelige med testdatapunktet, og udled output.  \n",
    "        * Kan bruges til både klassifikation og regression.  \n",
    "    * Ulemper:  \n",
    "        * Kræver valg af et passende antal naboer (k).  \n",
    "        * Kan være følsom over for støj og outliers.  \n",
    "  \n",
    "Valget mellem disse to algoritmer afhænger af dine datakarakteristika og opgavekrav. Hvis dine data har en klar lineær sammenhæng, og du ønsker fortolkbarhed, kan logistisk regression være det bedste valg. Hvis du ønsker en mere generel tilgang uden at antage en bestemt form for sammenhæng, kan KNN være mere passende\n",
    "</div>"
   ]
  },
  {
   "cell_type": "markdown",
   "id": "77a9951f",
   "metadata": {},
   "source": [
    "  "
   ]
  }
 ],
 "metadata": {
  "kernelspec": {
   "display_name": "Python 3 (ipykernel)",
   "language": "python",
   "name": "python3"
  },
  "language_info": {
   "codemirror_mode": {
    "name": "ipython",
    "version": 3
   },
   "file_extension": ".py",
   "mimetype": "text/x-python",
   "name": "python",
   "nbconvert_exporter": "python",
   "pygments_lexer": "ipython3",
   "version": "3.11.5"
  }
 },
 "nbformat": 4,
 "nbformat_minor": 5
}
